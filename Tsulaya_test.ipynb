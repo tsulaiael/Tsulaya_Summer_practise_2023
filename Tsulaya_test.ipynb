{
 "cells": [
  {
   "cell_type": "code",
   "execution_count": null,
   "id": "54665956",
   "metadata": {},
   "outputs": [],
   "source": [
    "import numpy as np\n",
    "import scipy\n",
    "import pandas as pd"
   ]
  },
  {
   "cell_type": "code",
   "execution_count": null,
   "id": "b1ac93be",
   "metadata": {},
   "outputs": [],
   "source": [
    "URL = \"http://archive.ics.uci.edu/ml/machine-learning-databases/autos/imports-85.data\"\n",
    "df = pd.read_csv(URL)\n"
   ]
  },
  {
   "cell_type": "code",
   "execution_count": null,
   "id": "7f11ac13",
   "metadata": {},
   "outputs": [],
   "source": [
    "Attribute = [\"символизация\",\n",
    "             \"нормализованные потери\",\n",
    "             \"марка\",\n",
    "             \"вид топлива\",\n",
    "             \"стремление\",\n",
    "             \"количество дверей\",\n",
    "             \"тип кузова\",\n",
    "             \"ведущий мост\",\n",
    "             \"расположение двигателя\",\n",
    "             \"колесная база\",\n",
    "             \"длина\",\n",
    "             \"ширина\",\n",
    "             \"высота\",\n",
    "             \"снаряженная масса\",\n",
    "             \"тип двигателя\",\n",
    "             \"количество цилиндров\",\n",
    "             \"объем двигателя\",\n",
    "             \"топливная система\",\n",
    "             \"диаметр отверстия\",\n",
    "             \"ход\",\n",
    "             \"степень сжатия\",\n",
    "             \"мощность двигателя\",\n",
    "             \"пиковые обороты\",\n",
    "             \"городской режим\",\n",
    "             \"шоссейный режим\",\n",
    "             \"цена\"\n",
    "            ]"
   ]
  },
  {
   "cell_type": "code",
   "execution_count": null,
   "id": "8b4fbb51",
   "metadata": {},
   "outputs": [],
   "source": [
    "df = pd.read_csv(URL,names = Attribute)"
   ]
  },
  {
   "cell_type": "code",
   "execution_count": null,
   "id": "9e39d956",
   "metadata": {},
   "outputs": [],
   "source": [
    "missed = (df == '?').sum()\n",
    "percentage = missed / df.shape[0]\n",
    "nan_cols=percentage[percentage != 0].index\n",
    "percentage = percentage[percentage != 0]"
   ]
  },
  {
   "cell_type": "code",
   "execution_count": null,
   "id": "b6be0271",
   "metadata": {},
   "outputs": [],
   "source": [
    "df1 = df.copy(deep = True)\n",
    "col_nan_without_norm_less = nan_cols[1:]\n",
    "col_nan_without_norm_less\n",
    "df1 = df.copy(deep = True)\n",
    "for c in col_nan_without_norm_less:\n",
    "    df1.loc[df1[c] == '?',c] = np.nan\n",
    "df1 = df1.dropna()\n",
    "del_pers = df1.shape[0]/df.shape[0]\n",
    "df.loc[df['нормализованные потери'] == '?','нормализованные потери'] = np.nan\n",
    "df['нормализованные потери'] = df['нормализованные потери'].astype(float)"
   ]
  },
  {
   "cell_type": "code",
   "execution_count": null,
   "id": "47227fcf",
   "metadata": {},
   "outputs": [],
   "source": [
    "df1.loc[df1['нормализованные потери'] == '?','нормализованные потери'] = np.nan\n",
    "df1 = df1.fillna(df1['нормализованные потери'].median())\n",
    "df1['нормализованные потери'] = df1['нормализованные потери'].astype(float)\n",
    "df1['цена'] = df1['цена'].astype(float)"
   ]
  },
  {
   "cell_type": "code",
   "execution_count": null,
   "id": "d532f992",
   "metadata": {},
   "outputs": [],
   "source": [
    "import scipy.stats as stats\n",
    "# Метод доверительных интервалов.\n",
    "def trust_intervals(data = df):\n",
    "    df1 = data.copy(deep = True)\n",
    "    not_object_col = [c for c in df1.columns if df1[c].dtype != 'object']\n",
    "    # Задаем уровень доверия - 95 (обычно 95)\n",
    "    confidence = 0.999\n",
    "    for c in not_object_col:\n",
    "        mean = data[c].mean()\n",
    "        std_dev = data[c].std()\n",
    "        # Вычисляем доверительный интервал\n",
    "        interval = stats.norm.interval(confidence,loc = mean,scale = std_dev)\n",
    "        # Исключаем из выборки данные, выходящие за интервал\n",
    "        # interval[1] - верхняя граница, interval[0] - нижняя граница интервала.\n",
    "        df1 = df1[(df1[c] >= interval[0])&(df1[c] <= interval[1])]\n",
    "    return df1"
   ]
  },
  {
   "cell_type": "code",
   "execution_count": null,
   "id": "7def7d32",
   "metadata": {},
   "outputs": [],
   "source": [
    "df2 = trust_intervals(df1).copy(deep = True)"
   ]
  },
  {
   "cell_type": "code",
   "execution_count": null,
   "id": "db59fcb8",
   "metadata": {},
   "outputs": [],
   "source": [
    "from scipy.stats import mannwhitneyu\n",
    "groupA, groupB = np.array(df2['городской режим']), np.array(df2['шоссейный режим'])\n",
    "u_stat, p_value = mannwhitneyu(groupA, groupB, method=\"exact\")\n",
    "print('U-statistic:', u_stat)\n",
    "print('P-value:', p_value)"
   ]
  },
  {
   "cell_type": "code",
   "execution_count": null,
   "id": "9dc235ce",
   "metadata": {},
   "outputs": [],
   "source": []
  },
  {
   "cell_type": "code",
   "execution_count": null,
   "id": "74a45aba",
   "metadata": {},
   "outputs": [],
   "source": []
  }
 ],
 "metadata": {
  "kernelspec": {
   "display_name": "Python 3 (ipykernel)",
   "language": "python",
   "name": "python3"
  },
  "language_info": {
   "codemirror_mode": {
    "name": "ipython",
    "version": 3
   },
   "file_extension": ".py",
   "mimetype": "text/x-python",
   "name": "python",
   "nbconvert_exporter": "python",
   "pygments_lexer": "ipython3",
   "version": "3.10.9"
  }
 },
 "nbformat": 4,
 "nbformat_minor": 5
}
